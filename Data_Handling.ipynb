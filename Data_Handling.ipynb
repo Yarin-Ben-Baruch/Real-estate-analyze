{
 "cells": [
  {
   "cell_type": "markdown",
   "metadata": {},
   "source": [
    "# Part 2 - Data handling "
   ]
  },
  {
   "cell_type": "code",
   "execution_count": 2,
   "metadata": {},
   "outputs": [],
   "source": [
    "import pandas as pd\n",
    "import numpy as np\n",
    "import matplotlib.pyplot as plt\n",
    "import seaborn as sns\n",
    "import os\n",
    "\n",
    "pd.options.mode.chained_assignment = None\n",
    "%matplotlib inline"
   ]
  },
  {
   "cell_type": "markdown",
   "metadata": {},
   "source": [
    "## דאטה פריים של נתוני השכונות"
   ]
  },
  {
   "cell_type": "code",
   "execution_count": 3,
   "metadata": {},
   "outputs": [],
   "source": [
    "info = pd.read_csv (r'/Users/yarinbenbaruch/Desktop/פרויקט סיום - מדעי הנתונים/info_neighborhoods.csv')\n",
    "info_neighborhoods = info.copy()"
   ]
  },
  {
   "cell_type": "code",
   "execution_count": 5,
   "metadata": {},
   "outputs": [],
   "source": [
    "info_neighborhoods = info_neighborhoods.drop(['Unnamed: 0'],axis = 1)\n",
    "\n",
    "info_neighborhoods.index = ['נאות אשלים', 'נאות שיקמה', 'רמת אליהו', 'נחלת יהודה'] \n"
   ]
  },
  {
   "cell_type": "code",
   "execution_count": 6,
   "metadata": {},
   "outputs": [],
   "source": [
    "name = len(info_neighborhoods['School_grade'])\n",
    "\n",
    "for i in range(0,name):\n",
    "    \n",
    "    temp = info_neighborhoods['School_grade'][i]\n",
    "    temp = temp[:3]\n",
    "    num = float(temp)\n",
    "    info_neighborhoods['School_grade'][i] = num \n",
    "    \n",
    "    temp = info_neighborhoods['Socio_economic'][i]\n",
    "    temp = temp[:1]\n",
    "    num = float(temp)\n",
    "    info_neighborhoods['Socio_economic'][i] = temp"
   ]
  },
  {
   "cell_type": "code",
   "execution_count": 7,
   "metadata": {},
   "outputs": [],
   "source": [
    "i = 0\n",
    "for col in info_neighborhoods.columns:\n",
    "    if i > 1 :\n",
    "        info_neighborhoods[col] = info_neighborhoods[col].astype(float)\n",
    "    \n",
    "    i = i + 1\n",
    "    \n",
    "info_neighborhoods['Socio_economic'] = info_neighborhoods['Socio_economic'].astype(float)\n",
    "info_neighborhoods['School_grade']= info_neighborhoods['School_grade'].astype(float)"
   ]
  },
  {
   "cell_type": "code",
   "execution_count": 8,
   "metadata": {},
   "outputs": [],
   "source": [
    "i = 0\n",
    "for col in info_neighborhoods.columns:\n",
    "    if i > 2 :\n",
    "        info_neighborhoods[col] = info_neighborhoods[col] * 2\n",
    "    \n",
    "    i = i + 1"
   ]
  },
  {
   "cell_type": "code",
   "execution_count": 7,
   "metadata": {},
   "outputs": [],
   "source": [
    "info_neighborhoods.to_csv(r'/Users/yarinbenbaruch/info_neighborhoods_final.csv', index = False)"
   ]
  },
  {
   "cell_type": "markdown",
   "metadata": {},
   "source": [
    "## דאטה פריים של פרטי כל שכונה"
   ]
  },
  {
   "cell_type": "code",
   "execution_count": 10,
   "metadata": {},
   "outputs": [],
   "source": [
    "def fix_data(df):\n",
    "    \n",
    "    df = df.drop(['Unnamed: 0'],axis = 1)\n",
    "    \n",
    "    df['Day'] = [d.split('.')[0] for d in df.date]\n",
    "    df['Month'] = [d.split('.')[1] for d in df.date]\n",
    "    df['Year'] = [d.split('.')[2] for d in df.date]\n",
    "    \n",
    "    df = df[~df['squre'].astype(str).str.contains(\"-\")]\n",
    "    df = df[~df['flor'].astype(str).str.contains(\"-\")]\n",
    "\n",
    "    df['flor'] = df['flor'].replace('ק', '0')\n",
    "    df = df.drop(['date'],axis = 1)\n",
    "    \n",
    "    return df"
   ]
  },
  {
   "cell_type": "code",
   "execution_count": 11,
   "metadata": {},
   "outputs": [],
   "source": [
    "def replace_to_folat(df):\n",
    "        \n",
    "    i = 0\n",
    "    for col in df.columns:\n",
    "        if i > 0 :\n",
    "            if col != 'num of rooms':\n",
    "                df[col] = df[col].astype(int)\n",
    "            else:\n",
    "                df[col] = df[col].astype(float)\n",
    "        i = i + 1\n",
    "    \n",
    "    df['total price'] = df['squre'] * df['price for meter']\n",
    "    \n",
    "    return df"
   ]
  },
  {
   "cell_type": "code",
   "execution_count": 12,
   "metadata": {},
   "outputs": [],
   "source": [
    "def outlier(df):\n",
    "    \n",
    "    sns.boxplot(x = df['total price'])\n",
    "    \n",
    "    Q1 = np.percentile(df['total price'] , 25)\n",
    "    Q3 = np.percentile(df['total price'] , 75)\n",
    "    IQR = Q3 - Q1\n",
    "    \n",
    "    \n",
    "    df['total price'][(df['total price'] < Q1 - IQR ) | (df['total price'] > Q3 + 2.5*IQR)] = np.nan\n",
    "    df = df[df['total price'].notna()]\n",
    "    \n",
    "    \n",
    "    return df"
   ]
  },
  {
   "cell_type": "code",
   "execution_count": 13,
   "metadata": {},
   "outputs": [],
   "source": [
    "def print_scatter_outliers(df):\n",
    "    \n",
    "    fig, ax = plt.subplots(figsize=(12,6))\n",
    "    ax.scatter(df['Year'],df['total price'])\n",
    "    ax.set_xlabel('Year')\n",
    "    ax.set_ylabel('Price')\n",
    "    plt.show()\n",
    "    "
   ]
  },
  {
   "cell_type": "code",
   "execution_count": 14,
   "metadata": {},
   "outputs": [],
   "source": [
    "Ashelim = pd.read_csv(r'/Users/yarinbenbaruch/Desktop/פרויקט סיום - מדעי הנתונים/Ashelim.csv')\n",
    "Shikme = pd.read_csv(r'/Users/yarinbenbaruch/Desktop/פרויקט סיום - מדעי הנתונים/Shikme.csv')\n",
    "Ramat_Eliyahu = pd.read_csv(r'/Users/yarinbenbaruch/Desktop/פרויקט סיום - מדעי הנתונים/Ramat_Eliyahu.csv')\n",
    "Nahalat_Yehuda = pd.read_csv(r'/Users/yarinbenbaruch/Desktop/פרויקט סיום - מדעי הנתונים/Nahalat_Yehuda.csv')"
   ]
  },
  {
   "cell_type": "code",
   "execution_count": 15,
   "metadata": {},
   "outputs": [],
   "source": [
    "copy_Ashelim = Ashelim.copy()\n",
    "copy_Shikme = Shikme.copy()\n",
    "copy_Ramat_Eliyahu = Ramat_Eliyahu.copy()\n",
    "copy_Nahalat_Yehuda = Nahalat_Yehuda.copy()"
   ]
  },
  {
   "cell_type": "code",
   "execution_count": 16,
   "metadata": {
    "collapsed": true
   },
   "outputs": [
    {
     "data": {
      "image/png": "[encoded data removed]",
      "text/plain": [
       "<Figure size 432x288 with 1 Axes>"
      ]
     },
     "metadata": {
      "needs_background": "light"
     },
     "output_type": "display_data"
    }
   ],
   "source": [
    "copy_Ashelim = fix_data(copy_Ashelim)\n",
    "copy_Ashelim = replace_to_folat(copy_Ashelim)\n",
    "copy_Ashelim = outlier(copy_Ashelim)\n",
    "copy_Ashelim = copy_Ashelim.drop_duplicates()"
   ]
  },
  {
   "cell_type": "code",
   "execution_count": 17,
   "metadata": {
    "collapsed": true
   },
   "outputs": [
    {
     "data": {
      "image/png": "[encoded data removed]",
      "text/plain": [
       "<Figure size 432x288 with 1 Axes>"
      ]
     },
     "metadata": {
      "needs_background": "light"
     },
     "output_type": "display_data"
    }
   ],
   "source": [
    "copy_Shikme = fix_data(copy_Shikme)\n",
    "copy_Shikme = replace_to_folat(copy_Shikme)\n",
    "copy_Shikme = outlier(copy_Shikme)\n",
    "copy_Shikme = copy_Shikme.drop_duplicates()"
   ]
  },
  {
   "cell_type": "code",
   "execution_count": 18,
   "metadata": {
    "collapsed": true
   },
   "outputs": [
    {
     "data": {
      "image/png": "[encoded data removed]",
      "text/plain": [
       "<Figure size 432x288 with 1 Axes>"
      ]
     },
     "metadata": {
      "needs_background": "light"
     },
     "output_type": "display_data"
    }
   ],
   "source": [
    "copy_Ramat_Eliyahu = fix_data(copy_Ramat_Eliyahu)\n",
    "copy_Ramat_Eliyahu = replace_to_folat(copy_Ramat_Eliyahu)\n",
    "copy_Ramat_Eliyahu = outlier(copy_Ramat_Eliyahu)\n",
    "copy_Ramat_Eliyahu = copy_Ramat_Eliyahu.drop_duplicates()"
   ]
  },
  {
   "cell_type": "code",
   "execution_count": 19,
   "metadata": {
    "collapsed": true
   },
   "outputs": [
    {
     "data": {
      "image/png": "[encoded data removed]",
      "text/plain": [
       "<Figure size 432x288 with 1 Axes>"
      ]
     },
     "metadata": {
      "needs_background": "light"
     },
     "output_type": "display_data"
    }
   ],
   "source": [
    "copy_Nahalat_Yehuda = fix_data(copy_Nahalat_Yehuda)\n",
    "copy_Nahalat_Yehuda = replace_to_folat(copy_Nahalat_Yehuda)\n",
    "copy_Nahalat_Yehuda = outlier(copy_Nahalat_Yehuda)\n",
    "copy_Nahalat_Yehuda = copy_Nahalat_Yehuda.drop_duplicates()"
   ]
  },
  {
   "cell_type": "code",
   "execution_count": 129,
   "metadata": {},
   "outputs": [],
   "source": [
    "#copy_Ashelim = copy_Ashelim.rename(columns={\"adrass\": \"Address\",\"squre\":\"Square meters\",\"price for meter\":\"Price for meter\",\n",
    "                                          \"num of rooms\":\"Number of rooms\",\"flor\":\"Floor\",\"year build\":\"Year build\",\"total price\":\"Total price\"})\n",
    "\n"
   ]
  },
  {
   "cell_type": "code",
   "execution_count": 772,
   "metadata": {},
   "outputs": [],
   "source": [
    "copy_Ashelim.to_csv(r'/Users/yarinbenbaruch/Ashelim_final.csv', index = False)\n",
    "copy_Shikme.to_csv(r'/Users/yarinbenbaruch/Shikme_final.csv', index = False)\n",
    "copy_Ramat_Eliyahu.to_csv(r'/Users/yarinbenbaruch/Ramat_Eliyahu_final.csv', index = False)\n",
    "copy_Nahalat_Yehuda.to_csv(r'/Users/yarinbenbaruch/Nahalat_Yehuda_final.csv', index = False)"
   ]
  }
 ],
 "metadata": {
  "kernelspec": {
   "display_name": "Python 3",
   "language": "python",
   "name": "python3"
  },
  "language_info": {
   "codemirror_mode": {
    "name": "ipython",
    "version": 3
   },
   "file_extension": ".py",
   "mimetype": "text/x-python",
   "name": "python",
   "nbconvert_exporter": "python",
   "pygments_lexer": "ipython3",
   "version": "3.8.3"
  }
 },
 "nbformat": 4,
 "nbformat_minor": 4
}
