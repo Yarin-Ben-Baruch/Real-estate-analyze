{
 "cells": [
  {
   "cell_type": "markdown",
   "metadata": {},
   "source": [
    "# Part 4 - machine learning"
   ]
  },
  {
   "cell_type": "markdown",
   "metadata": {},
   "source": [
    "## Linear Regression"
   ]
  },
  {
   "cell_type": "code",
   "execution_count": 43,
   "metadata": {},
   "outputs": [],
   "source": [
    "import pandas as pd\n",
    "import numpy as np\n",
    "import matplotlib as mpl\n",
    "import matplotlib.pyplot as plt\n",
    "import seaborn as sns\n",
    "import os\n",
    "from collections import Counter\n",
    "%matplotlib inline\n",
    "\n",
    "import sklearn\n",
    "from sklearn import linear_model, metrics, preprocessing\n",
    "from sklearn.preprocessing import StandardScaler, MinMaxScaler\n",
    "from sklearn.linear_model import LogisticRegression, LinearRegression\n",
    "from sklearn.metrics import r2_score, f1_score\n",
    "from sklearn.preprocessing import LabelEncoder\n",
    "from sklearn.model_selection import train_test_split\n",
    "\n",
    "pd.options.mode.chained_assignment = None"
   ]
  },
  {
   "cell_type": "code",
   "execution_count": 44,
   "metadata": {},
   "outputs": [],
   "source": [
    "def replace_to_numeric(df):\n",
    "    \n",
    "    le = LabelEncoder()\n",
    "    df['adrass'] = le.fit_transform(df['adrass']) \n",
    "    \n",
    "    df = df.drop(['date'],axis = 1)\n",
    "    df = df.drop(['price for meter'],axis = 1)\n",
    "    \n",
    "    return df"
   ]
  },
  {
   "cell_type": "code",
   "execution_count": 45,
   "metadata": {},
   "outputs": [],
   "source": [
    "def target(df, target_column):\n",
    "    \n",
    "    TRAINING_FEATURES = df.columns[df.columns != target_column]\n",
    "    TARGET_FEATURE = target_column\n",
    "\n",
    "    X = df[TRAINING_FEATURES]\n",
    "    y = df[TARGET_FEATURE]\n",
    "    \n",
    "    return X,y"
   ]
  },
  {
   "cell_type": "code",
   "execution_count": 46,
   "metadata": {},
   "outputs": [],
   "source": [
    "def train(X,y):\n",
    "\n",
    "    x_train, x_test, y_train, y_test = train_test_split(X, y, test_size = 0.2,random_state= 1)\n",
    "                       \n",
    "    return x_train, x_test, y_train, y_test\n"
   ]
  },
  {
   "cell_type": "code",
   "execution_count": 47,
   "metadata": {},
   "outputs": [],
   "source": [
    "def train_regression_model(X_train, y_train):\n",
    "    \n",
    "    regressor = LinearRegression()\n",
    "    regressor.fit(X_train, y_train)\n",
    "        \n",
    "    return regressor"
   ]
  },
  {
   "cell_type": "code",
   "execution_count": 48,
   "metadata": {},
   "outputs": [],
   "source": [
    "def predict_regression(regressor, X_test):\n",
    "    \n",
    "    \n",
    "    y_pred = regressor.predict(X_test)\n",
    "    \n",
    "    return y_pred\n"
   ]
  },
  {
   "cell_type": "code",
   "execution_count": 49,
   "metadata": {},
   "outputs": [],
   "source": [
    "def evaluate_performance(y_test,y_predicted):\n",
    "    \n",
    "    \n",
    "    evaluate_value = r2_score(y_test,y_predicted)\n",
    "                            \n",
    "    return evaluate_value  \n"
   ]
  },
  {
   "cell_type": "code",
   "execution_count": 50,
   "metadata": {},
   "outputs": [],
   "source": [
    "def Details_of_house_for_inspection(model):\n",
    "    \n",
    "    print('Enter your address:')\n",
    "    adrass = input()\n",
    "    print('Enter your square meters:')\n",
    "    squre = input()\n",
    "    print('Enter your num of rooms:')\n",
    "    rooms = input()\n",
    "    print('Enter your floor:')\n",
    "    flor = input()\n",
    "    print('Enter your year build:')\n",
    "    year_build = input()\n",
    "    print('Enter your day sale:')\n",
    "    Day_sale = input()\n",
    "    print('Enter your month sale:')\n",
    "    Month_sale = input()\n",
    "    print('Enter your year sale:')\n",
    "    Year_sale = input()\n",
    "\n",
    "    df = pd.DataFrame({\"adrass\":adrass,\"squre\":squre,\"num of rooms\":rooms,\"flor\":flor\n",
    "                       ,\"year build\":year_build,\"Day\":Day_sale,\"Month\":Month_sale,\"Year\":Year_sale},index=[0])\n",
    "    \n",
    "    #df = replace_to_numeric(df)\n",
    "    le = LabelEncoder()\n",
    "    df['adrass'] = le.fit_transform(df['adrass']) \n",
    "    \n",
    "    y_pred = predict_regression(model,df)  \n",
    "    print()\n",
    "    print(\"On these dates the value of the house will be: \",int(y_pred[0]))\n",
    "    #print(int(y_pred[0]))\n",
    "    \n",
    "    "
   ]
  },
  {
   "cell_type": "code",
   "execution_count": 51,
   "metadata": {},
   "outputs": [],
   "source": [
    "df = pd.read_csv(r'/Users/yarinbenbaruch/Desktop/פרויקט סיום - מדעי הנתונים/Ashelim_final.csv')\n",
    "Ashelim = df.copy()\n",
    "\n",
    "df = pd.read_csv(r'/Users/yarinbenbaruch/Desktop/פרויקט סיום - מדעי הנתונים/Shikme_final.csv')\n",
    "Shikme = df.copy()\n",
    "\n",
    "df = pd.read_csv(r'/Users/yarinbenbaruch/Desktop/פרויקט סיום - מדעי הנתונים/Ramat_Eliyahu_final.csv')\n",
    "Ramat_Eliyahu = df.copy()\n",
    "\n",
    "df = pd.read_csv(r'/Users/yarinbenbaruch/Desktop/פרויקט סיום - מדעי הנתונים/Nahalat_Yehuda_final.csv')\n",
    "Nahalat_Yehuda = df.copy()\n"
   ]
  },
  {
   "cell_type": "markdown",
   "metadata": {},
   "source": [
    "# Ashelim"
   ]
  },
  {
   "cell_type": "code",
   "execution_count": 52,
   "metadata": {},
   "outputs": [],
   "source": [
    "Ashelim = replace_to_numeric(Ashelim)"
   ]
  },
  {
   "cell_type": "code",
   "execution_count": 53,
   "metadata": {},
   "outputs": [
    {
     "name": "stdout",
     "output_type": "stream",
     "text": [
      "evaluate = 0.8065781007791576\n"
     ]
    }
   ],
   "source": [
    "target_column = 'total price'\n",
    "X,y = target(Ashelim,target_column)\n",
    "\n",
    "x_train, x_test, y_train, y_test = train(X,y)\n",
    "\n",
    "model_Ashelim = train_regression_model(x_train,y_train)\n",
    "\n",
    "y_pred = predict_regression(model_Ashelim,x_test)\n",
    "\n",
    "evaluate = evaluate_performance(y_test,y_pred)\n",
    "print(\"evaluate =\",evaluate)"
   ]
  },
  {
   "cell_type": "code",
   "execution_count": 54,
   "metadata": {
    "scrolled": true
   },
   "outputs": [
    {
     "name": "stdout",
     "output_type": "stream",
     "text": [
      "evaluate = 0.8065781007791576\n"
     ]
    },
    {
     "data": {
      "image/png": "[encoded data removed]",
      "text/plain": [
       "<Figure size 432x288 with 1 Axes>"
      ]
     },
     "metadata": {
      "needs_background": "light"
     },
     "output_type": "display_data"
    }
   ],
   "source": [
    "print(\"evaluate =\",evaluate)\n",
    "plt.scatter(y_test, y_pred, color='black')\n",
    "plt.plot(y_test, y_test, color='red', linewidth=2)\n",
    "plt.title('Linear regression on Ashelim data set')\n",
    "plt.xlabel('Real values')\n",
    "plt.ylabel('Prediction')\n",
    "plt.show()"
   ]
  },
  {
   "cell_type": "markdown",
   "metadata": {},
   "source": [
    "## Test - Linear Regression - model_Ashelim"
   ]
  },
  {
   "cell_type": "code",
   "execution_count": 55,
   "metadata": {},
   "outputs": [
    {
     "name": "stdout",
     "output_type": "stream",
     "text": [
      "Enter your address:\n",
      "הכינור 3\n",
      "Enter your square meters:\n",
      "100\n",
      "Enter your num of rooms:\n",
      "5\n",
      "Enter your floor:\n",
      "4\n",
      "Enter your year build:\n",
      "1997\n",
      "Enter your day sale:\n",
      "20\n",
      "Enter your month sale:\n",
      "2\n",
      "Enter your year sale:\n",
      "2020\n",
      "\n",
      "On these dates the value of the house will be:  2304449\n"
     ]
    }
   ],
   "source": [
    "Details_of_house_for_inspection(model_Ashelim)\n"
   ]
  },
  {
   "cell_type": "code",
   "execution_count": 59,
   "metadata": {},
   "outputs": [
    {
     "name": "stdout",
     "output_type": "stream",
     "text": [
      "Enter your address:\n",
      "הכינור 3\n",
      "Enter your square meters:\n",
      "100\n",
      "Enter your num of rooms:\n",
      "5\n",
      "Enter your floor:\n",
      "4\n",
      "Enter your year build:\n",
      "1997\n",
      "Enter your day sale:\n",
      "20\n",
      "Enter your month sale:\n",
      "2\n",
      "Enter your year sale:\n",
      "2025\n",
      "\n",
      "On these dates the value of the house will be:  2666319\n"
     ]
    }
   ],
   "source": [
    "Details_of_house_for_inspection(model_Ashelim)"
   ]
  },
  {
   "cell_type": "markdown",
   "metadata": {},
   "source": [
    "# Shikme"
   ]
  },
  {
   "cell_type": "code",
   "execution_count": 260,
   "metadata": {},
   "outputs": [],
   "source": [
    "Shikme = replace_to_numeric(Shikme)"
   ]
  },
  {
   "cell_type": "code",
   "execution_count": 261,
   "metadata": {},
   "outputs": [
    {
     "name": "stdout",
     "output_type": "stream",
     "text": [
      "0.6526555653051833\n"
     ]
    }
   ],
   "source": [
    "target_column = 'total price'\n",
    "X,y = target(Shikme,target_column)\n",
    "\n",
    "x_train, x_test, y_train, y_test = train(X,y)\n",
    "\n",
    "model_Shikme = train_regression_model(x_train,y_train)\n",
    "\n",
    "y_pred = predict_regression(model_Shikme,x_test)\n",
    "\n",
    "evaluate = evaluate_performance(y_test,y_pred)\n",
    "print(evaluate)"
   ]
  },
  {
   "cell_type": "markdown",
   "metadata": {},
   "source": [
    "## Improve the model"
   ]
  },
  {
   "cell_type": "code",
   "execution_count": 263,
   "metadata": {},
   "outputs": [],
   "source": [
    "Shikme['num of rooms * flor'] = Shikme['num of rooms'] * Shikme['flor']\n",
    "Shikme['Year * year build'] = Shikme['year build'] * Shikme['Year']\n",
    "\n",
    "\n"
   ]
  },
  {
   "cell_type": "code",
   "execution_count": 264,
   "metadata": {},
   "outputs": [
    {
     "name": "stdout",
     "output_type": "stream",
     "text": [
      "0.7032307542241244\n"
     ]
    }
   ],
   "source": [
    "target_column = 'total price'\n",
    "X,y = target(Shikme,target_column)\n",
    "\n",
    "x_train, x_test, y_train, y_test = train(X,y)\n",
    "\n",
    "model_Shikme = train_regression_model(x_train,y_train)\n",
    "\n",
    "y_pred = predict_regression(model_Shikme,x_test)\n",
    "\n",
    "evaluate = evaluate_performance(y_test,y_pred)\n",
    "print(evaluate)"
   ]
  },
  {
   "cell_type": "code",
   "execution_count": 265,
   "metadata": {
    "collapsed": true
   },
   "outputs": [
    {
     "data": {
      "image/png": "[encoded data removed]",
      "text/plain": [
       "<Figure size 432x288 with 1 Axes>"
      ]
     },
     "metadata": {
      "needs_background": "light"
     },
     "output_type": "display_data"
    }
   ],
   "source": [
    "plt.scatter(y_test, y_pred, color='black')\n",
    "plt.plot(y_test, y_test, color='red', linewidth=2)\n",
    "plt.title('Linear regression on Ashelim data set')\n",
    "plt.xlabel('Real values')\n",
    "plt.ylabel('Prediction')\n",
    "plt.show()"
   ]
  },
  {
   "cell_type": "markdown",
   "metadata": {},
   "source": [
    "# Ramat_Eliyahu"
   ]
  },
  {
   "cell_type": "code",
   "execution_count": 266,
   "metadata": {},
   "outputs": [],
   "source": [
    "Ramat_Eliyahu = replace_to_numeric(Ramat_Eliyahu)"
   ]
  },
  {
   "cell_type": "code",
   "execution_count": 267,
   "metadata": {},
   "outputs": [
    {
     "name": "stdout",
     "output_type": "stream",
     "text": [
      "0.6013406531956992\n"
     ]
    }
   ],
   "source": [
    "target_column = 'total price'\n",
    "X,y = target(Ramat_Eliyahu,target_column)\n",
    "\n",
    "x_train, x_test, y_train, y_test = train(X,y)\n",
    "\n",
    "model_Ramat_Eliyahu = train_regression_model(x_train,y_train)\n",
    "\n",
    "y_pred = predict_regression(model_Ramat_Eliyahu,x_test)\n",
    "\n",
    "evaluate = evaluate_performance(y_test,y_pred)\n",
    "print(evaluate)"
   ]
  },
  {
   "cell_type": "markdown",
   "metadata": {},
   "source": [
    "## Improve the model"
   ]
  },
  {
   "cell_type": "code",
   "execution_count": 268,
   "metadata": {},
   "outputs": [],
   "source": [
    "Ramat_Eliyahu['squre * year build'] = Ramat_Eliyahu['year build'] * Ramat_Eliyahu['squre']\n",
    "Ramat_Eliyahu['num of rooms * flor'] = Ramat_Eliyahu['num of rooms'] * Ramat_Eliyahu['flor']\n",
    "Ramat_Eliyahu = Ramat_Eliyahu.drop(['Day'],axis = 1)"
   ]
  },
  {
   "cell_type": "code",
   "execution_count": 269,
   "metadata": {},
   "outputs": [
    {
     "name": "stdout",
     "output_type": "stream",
     "text": [
      "0.6507604191797907\n"
     ]
    }
   ],
   "source": [
    "X,y = target(Ramat_Eliyahu,target_column)\n",
    "\n",
    "x_train, x_test, y_train, y_test = train(X,y)\n",
    "\n",
    "model_Ramat_Eliyahu = train_regression_model(x_train,y_train)\n",
    "\n",
    "y_pred = predict_regression(model_Ramat_Eliyahu,x_test)\n",
    "\n",
    "evaluate = evaluate_performance(y_test,y_pred)\n",
    "print(evaluate)"
   ]
  },
  {
   "cell_type": "code",
   "execution_count": 270,
   "metadata": {
    "collapsed": true
   },
   "outputs": [
    {
     "data": {
      "image/png": "[encoded data removed]",
      "text/plain": [
       "<Figure size 432x288 with 1 Axes>"
      ]
     },
     "metadata": {
      "needs_background": "light"
     },
     "output_type": "display_data"
    }
   ],
   "source": [
    "plt.scatter(y_test, y_pred, color='black')\n",
    "plt.plot(y_test, y_test, color='red', linewidth=2)\n",
    "plt.title('Linear regression on Ashelim data set')\n",
    "plt.xlabel('Real values')\n",
    "plt.ylabel('Prediction')\n",
    "plt.show()"
   ]
  },
  {
   "cell_type": "markdown",
   "metadata": {},
   "source": [
    "# Nahalat_Yehuda"
   ]
  },
  {
   "cell_type": "code",
   "execution_count": 39,
   "metadata": {},
   "outputs": [],
   "source": [
    "Nahalat_Yehuda = replace_to_numeric(Nahalat_Yehuda)"
   ]
  },
  {
   "cell_type": "code",
   "execution_count": 40,
   "metadata": {
    "scrolled": true
   },
   "outputs": [
    {
     "name": "stdout",
     "output_type": "stream",
     "text": [
      "Before the improvement 0.6744622093587438\n"
     ]
    }
   ],
   "source": [
    "target_column = 'total price'\n",
    "X,y = target(Nahalat_Yehuda,target_column)\n",
    "\n",
    "x_train, x_test, y_train, y_test = train(X,y)\n",
    "\n",
    "model_Nahalat_Yehuda = train_regression_model(x_train,y_train)\n",
    "\n",
    "y_pred = predict_regression(model_Nahalat_Yehuda,x_test)\n",
    "\n",
    "evaluate = evaluate_performance(y_test,y_pred)\n",
    "print(\"Before the improvement\",evaluate)"
   ]
  },
  {
   "cell_type": "markdown",
   "metadata": {},
   "source": [
    "## Improve the model"
   ]
  },
  {
   "cell_type": "code",
   "execution_count": 41,
   "metadata": {},
   "outputs": [],
   "source": [
    "Nahalat_Yehuda['Square_meters * Year'] = Nahalat_Yehuda['Year'] * Nahalat_Yehuda['Square meters']\n",
    "Nahalat_Yehuda['Square_meters * year build'] = Nahalat_Yehuda['year build'] * Nahalat_Yehuda['Square meters']\n",
    "Nahalat_Yehuda['Num of rooms * Year'] = Nahalat_Yehuda['num of rooms'] * Nahalat_Yehuda['Year']\n",
    "Nahalat_Yehuda['Num of rooms * floor'] = Nahalat_Yehuda['num of rooms'] * Nahalat_Yehuda['floor']\n",
    "Nahalat_Yehuda = Nahalat_Yehuda.drop(['Day'],axis = 1)"
   ]
  },
  {
   "cell_type": "code",
   "execution_count": 42,
   "metadata": {},
   "outputs": [
    {
     "name": "stdout",
     "output_type": "stream",
     "text": [
      "After the improvement 0.724742937409627\n"
     ]
    }
   ],
   "source": [
    "X,y = target(Nahalat_Yehuda,target_column)\n",
    "\n",
    "x_train, x_test, y_train, y_test = train(X,y)\n",
    "\n",
    "model_Nahalat_Yehuda = train_regression_model(x_train,y_train)\n",
    "\n",
    "y_pred = predict_regression(model_Nahalat_Yehuda,x_test)\n",
    "\n",
    "evaluate = evaluate_performance(y_test,y_pred)\n",
    "print(\"After the improvement\",evaluate)"
   ]
  },
  {
   "cell_type": "code",
   "execution_count": 275,
   "metadata": {},
   "outputs": [
    {
     "data": {
      "image/png": "[encoded data removed]",
      "text/plain": [
       "<Figure size 432x288 with 1 Axes>"
      ]
     },
     "metadata": {
      "needs_background": "light"
     },
     "output_type": "display_data"
    }
   ],
   "source": [
    "plt.scatter(y_test, y_pred, color='black')\n",
    "plt.plot(y_test, y_test, color='red', linewidth=2)\n",
    "plt.title('Linear regression on Ashelim data set')\n",
    "plt.xlabel('Real values')\n",
    "plt.ylabel('Prediction')\n",
    "plt.show()"
   ]
  }
 ],
 "metadata": {
  "kernelspec": {
   "display_name": "Python 3",
   "language": "python",
   "name": "python3"
  },
  "language_info": {
   "codemirror_mode": {
    "name": "ipython",
    "version": 3
   },
   "file_extension": ".py",
   "mimetype": "text/x-python",
   "name": "python",
   "nbconvert_exporter": "python",
   "pygments_lexer": "ipython3",
   "version": "3.8.3"
  }
 },
 "nbformat": 4,
 "nbformat_minor": 4
}
